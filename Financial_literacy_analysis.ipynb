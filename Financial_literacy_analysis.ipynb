{
  "nbformat": 4,
  "nbformat_minor": 0,
  "metadata": {
    "colab": {
      "provenance": [],
      "authorship_tag": "ABX9TyPhT+RfwhCivw85xdd1Mjfc",
      "include_colab_link": true
    },
    "kernelspec": {
      "name": "python3",
      "display_name": "Python 3"
    },
    "language_info": {
      "name": "python"
    }
  },
  "cells": [
    {
      "cell_type": "markdown",
      "metadata": {
        "id": "view-in-github",
        "colab_type": "text"
      },
      "source": [
        "<a href=\"https://colab.research.google.com/github/esthernwagborogu/Adidas-Sales-Data/blob/main/Financial_literacy_analysis.ipynb\" target=\"_parent\"><img src=\"https://colab.research.google.com/assets/colab-badge.svg\" alt=\"Open In Colab\"/></a>"
      ]
    },
    {
      "cell_type": "code",
      "source": [
        "#Import Library\n",
        "import pandas as pd\n",
        "import seaborn as sns\n",
        "import matplotlib.pyplot as plt"
      ],
      "metadata": {
        "id": "nSVjK8UShguh"
      },
      "execution_count": 2,
      "outputs": []
    },
    {
      "cell_type": "code",
      "source": [
        "from google.colab import drive\n",
        "drive.mount('/content/drive')"
      ],
      "metadata": {
        "colab": {
          "base_uri": "https://localhost:8080/"
        },
        "id": "ir0ULPIShs3d",
        "outputId": "946ccd45-16ff-43a1-bbf3-58fa79be12e9"
      },
      "execution_count": 4,
      "outputs": [
        {
          "output_type": "stream",
          "name": "stdout",
          "text": [
            "Mounted at /content/drive\n"
          ]
        }
      ]
    },
    {
      "cell_type": "code",
      "source": [
        "#upload the dataset from the drive\n",
        "FILEPATH = '/content/drive/MyDrive/financial_literacy_dataset.xlsx'\n",
        "dataframes = pd.read_excel(FILEPATH)\n"
      ],
      "metadata": {
        "id": "WCX8JYEXiCFX"
      },
      "execution_count": 5,
      "outputs": []
    },
    {
      "cell_type": "code",
      "source": [
        "#This line initiates a loop that iterates through the dataframes object.\n",
        "for k, v in dataframes.items():\n",
        "    print('dataframe: ' + k)\n",
        "    print(v.head(15))"
      ],
      "metadata": {
        "colab": {
          "base_uri": "https://localhost:8080/"
        },
        "id": "oAl3L9qQBN7Y",
        "outputId": "14677620-22be-4a9d-8729-04eb48302882"
      },
      "execution_count": 6,
      "outputs": [
        {
          "output_type": "stream",
          "name": "stdout",
          "text": [
            "dataframe: Age Group\n",
            "0          55+\n",
            "1     Under 18\n",
            "2        45-54\n",
            "3        18-24\n",
            "4        45-54\n",
            "5        25-34\n",
            "6     Under 18\n",
            "7     Under 18\n",
            "8        35-44\n",
            "9          55+\n",
            "10         55+\n",
            "11       35-44\n",
            "12         55+\n",
            "13    Under 18\n",
            "14    Under 18\n",
            "Name: Age Group, dtype: object\n",
            "dataframe: Household Income\n",
            "0               Low (<$30,000)\n",
            "1     Middle ($30,000-$70,000)\n",
            "2              High (>$70,000)\n",
            "3     Middle ($30,000-$70,000)\n",
            "4              High (>$70,000)\n",
            "5               Low (<$30,000)\n",
            "6              High (>$70,000)\n",
            "7     Middle ($30,000-$70,000)\n",
            "8               Low (<$30,000)\n",
            "9     Middle ($30,000-$70,000)\n",
            "10              Low (<$30,000)\n",
            "11              Low (<$30,000)\n",
            "12              Low (<$30,000)\n",
            "13             High (>$70,000)\n",
            "14    Middle ($30,000-$70,000)\n",
            "Name: Household Income, dtype: object\n",
            "dataframe: Education Level\n",
            "0            Some College\n",
            "1            Some College\n",
            "2     Bachelorâ€™s Degree\n",
            "3            Some College\n",
            "4     Bachelorâ€™s Degree\n",
            "5     Bachelorâ€™s Degree\n",
            "6            Some College\n",
            "7     High School or Less\n",
            "8         Graduate Degree\n",
            "9         Graduate Degree\n",
            "10    Bachelorâ€™s Degree\n",
            "11    Bachelorâ€™s Degree\n",
            "12    High School or Less\n",
            "13           Some College\n",
            "14    High School or Less\n",
            "Name: Education Level, dtype: object\n",
            "dataframe: Financial Literacy Score\n",
            "0     12.0\n",
            "1     92.0\n",
            "2      6.0\n",
            "3      9.0\n",
            "4     27.0\n",
            "5     47.0\n",
            "6     27.0\n",
            "7      NaN\n",
            "8     71.0\n",
            "9     55.0\n",
            "10    56.0\n",
            "11    65.0\n",
            "12    13.0\n",
            "13    98.0\n",
            "14    96.0\n",
            "Name: Financial Literacy Score, dtype: float64\n",
            "dataframe: Location\n",
            "0        Rural\n",
            "1        Urban\n",
            "2        Urban\n",
            "3        Rural\n",
            "4        Urban\n",
            "5        Urban\n",
            "6        Urban\n",
            "7        Urban\n",
            "8     Suburban\n",
            "9        Urban\n",
            "10    Suburban\n",
            "11    Suburban\n",
            "12       Rural\n",
            "13       Urban\n",
            "14       Urban\n",
            "Name: Location, dtype: object\n"
          ]
        }
      ]
    },
    {
      "cell_type": "code",
      "source": [
        "# Cleaning the data\n",
        "# Load the relevant sheet into a DataFrame\n",
        "df = dataframes['Financial Literacy Score']"
      ],
      "metadata": {
        "id": "qJcEKyueB5uz"
      },
      "execution_count": 7,
      "outputs": []
    },
    {
      "cell_type": "code",
      "source": [
        "# Drop rows with missing values\n",
        "df_cleaned = df.dropna()"
      ],
      "metadata": {
        "id": "gx0AuV-zCKgg"
      },
      "execution_count": 8,
      "outputs": []
    },
    {
      "cell_type": "code",
      "source": [
        "# Reset the index for the cleaned DataFrame\n",
        "df_cleaned.reset_index(drop=True, inplace=True)"
      ],
      "metadata": {
        "id": "xbcPw4q9CNTZ"
      },
      "execution_count": 9,
      "outputs": []
    },
    {
      "cell_type": "code",
      "source": [
        "# Display the cleaned data\n",
        "df_cleaned.head(15)"
      ],
      "metadata": {
        "colab": {
          "base_uri": "https://localhost:8080/",
          "height": 554
        },
        "id": "Ojk6GHAOCZ5Y",
        "outputId": "c3a61f74-a67a-4770-b7f2-6ddb0ec1b751"
      },
      "execution_count": 10,
      "outputs": [
        {
          "output_type": "execute_result",
          "data": {
            "text/plain": [
              "0     12.0\n",
              "1     92.0\n",
              "2      6.0\n",
              "3      9.0\n",
              "4     27.0\n",
              "5     47.0\n",
              "6     27.0\n",
              "7     71.0\n",
              "8     55.0\n",
              "9     56.0\n",
              "10    65.0\n",
              "11    13.0\n",
              "12    98.0\n",
              "13    96.0\n",
              "14    51.0\n",
              "Name: Financial Literacy Score, dtype: float64"
            ],
            "text/html": [
              "<div>\n",
              "<style scoped>\n",
              "    .dataframe tbody tr th:only-of-type {\n",
              "        vertical-align: middle;\n",
              "    }\n",
              "\n",
              "    .dataframe tbody tr th {\n",
              "        vertical-align: top;\n",
              "    }\n",
              "\n",
              "    .dataframe thead th {\n",
              "        text-align: right;\n",
              "    }\n",
              "</style>\n",
              "<table border=\"1\" class=\"dataframe\">\n",
              "  <thead>\n",
              "    <tr style=\"text-align: right;\">\n",
              "      <th></th>\n",
              "      <th>Financial Literacy Score</th>\n",
              "    </tr>\n",
              "  </thead>\n",
              "  <tbody>\n",
              "    <tr>\n",
              "      <th>0</th>\n",
              "      <td>12.0</td>\n",
              "    </tr>\n",
              "    <tr>\n",
              "      <th>1</th>\n",
              "      <td>92.0</td>\n",
              "    </tr>\n",
              "    <tr>\n",
              "      <th>2</th>\n",
              "      <td>6.0</td>\n",
              "    </tr>\n",
              "    <tr>\n",
              "      <th>3</th>\n",
              "      <td>9.0</td>\n",
              "    </tr>\n",
              "    <tr>\n",
              "      <th>4</th>\n",
              "      <td>27.0</td>\n",
              "    </tr>\n",
              "    <tr>\n",
              "      <th>5</th>\n",
              "      <td>47.0</td>\n",
              "    </tr>\n",
              "    <tr>\n",
              "      <th>6</th>\n",
              "      <td>27.0</td>\n",
              "    </tr>\n",
              "    <tr>\n",
              "      <th>7</th>\n",
              "      <td>71.0</td>\n",
              "    </tr>\n",
              "    <tr>\n",
              "      <th>8</th>\n",
              "      <td>55.0</td>\n",
              "    </tr>\n",
              "    <tr>\n",
              "      <th>9</th>\n",
              "      <td>56.0</td>\n",
              "    </tr>\n",
              "    <tr>\n",
              "      <th>10</th>\n",
              "      <td>65.0</td>\n",
              "    </tr>\n",
              "    <tr>\n",
              "      <th>11</th>\n",
              "      <td>13.0</td>\n",
              "    </tr>\n",
              "    <tr>\n",
              "      <th>12</th>\n",
              "      <td>98.0</td>\n",
              "    </tr>\n",
              "    <tr>\n",
              "      <th>13</th>\n",
              "      <td>96.0</td>\n",
              "    </tr>\n",
              "    <tr>\n",
              "      <th>14</th>\n",
              "      <td>51.0</td>\n",
              "    </tr>\n",
              "  </tbody>\n",
              "</table>\n",
              "</div><br><label><b>dtype:</b> float64</label>"
            ]
          },
          "metadata": {},
          "execution_count": 10
        }
      ]
    },
    {
      "cell_type": "code",
      "source": [
        "# Access the Series directly\n",
        "print(\"\\Summary Statistics for Financial Literacy Score:\")\n",
        "df = (df_cleaned.describe())\n",
        "df.head(10)"
      ],
      "metadata": {
        "colab": {
          "base_uri": "https://localhost:8080/",
          "height": 352
        },
        "id": "r7RZh9gNCj4o",
        "outputId": "69b05829-2d40-4029-c2e8-040957067a80"
      },
      "execution_count": 30,
      "outputs": [
        {
          "output_type": "stream",
          "name": "stdout",
          "text": [
            "\\Summary Statistics for Financial Literacy Score:\n"
          ]
        },
        {
          "output_type": "execute_result",
          "data": {
            "text/plain": [
              "count    97.000000\n",
              "mean     51.082474\n",
              "std      31.032131\n",
              "min       0.000000\n",
              "25%      22.000000\n",
              "50%      55.000000\n",
              "75%      76.000000\n",
              "max      98.000000\n",
              "Name: Financial Literacy Score, dtype: float64"
            ],
            "text/html": [
              "<div>\n",
              "<style scoped>\n",
              "    .dataframe tbody tr th:only-of-type {\n",
              "        vertical-align: middle;\n",
              "    }\n",
              "\n",
              "    .dataframe tbody tr th {\n",
              "        vertical-align: top;\n",
              "    }\n",
              "\n",
              "    .dataframe thead th {\n",
              "        text-align: right;\n",
              "    }\n",
              "</style>\n",
              "<table border=\"1\" class=\"dataframe\">\n",
              "  <thead>\n",
              "    <tr style=\"text-align: right;\">\n",
              "      <th></th>\n",
              "      <th>Financial Literacy Score</th>\n",
              "    </tr>\n",
              "  </thead>\n",
              "  <tbody>\n",
              "    <tr>\n",
              "      <th>count</th>\n",
              "      <td>97.000000</td>\n",
              "    </tr>\n",
              "    <tr>\n",
              "      <th>mean</th>\n",
              "      <td>51.082474</td>\n",
              "    </tr>\n",
              "    <tr>\n",
              "      <th>std</th>\n",
              "      <td>31.032131</td>\n",
              "    </tr>\n",
              "    <tr>\n",
              "      <th>min</th>\n",
              "      <td>0.000000</td>\n",
              "    </tr>\n",
              "    <tr>\n",
              "      <th>25%</th>\n",
              "      <td>22.000000</td>\n",
              "    </tr>\n",
              "    <tr>\n",
              "      <th>50%</th>\n",
              "      <td>55.000000</td>\n",
              "    </tr>\n",
              "    <tr>\n",
              "      <th>75%</th>\n",
              "      <td>76.000000</td>\n",
              "    </tr>\n",
              "    <tr>\n",
              "      <th>max</th>\n",
              "      <td>98.000000</td>\n",
              "    </tr>\n",
              "  </tbody>\n",
              "</table>\n",
              "</div><br><label><b>dtype:</b> float64</label>"
            ]
          },
          "metadata": {},
          "execution_count": 30
        }
      ]
    },
    {
      "cell_type": "code",
      "source": [
        "# For categorical analysis,I load the original DataFrame:\n",
        "df_original = dataframes\n",
        "print(\"Value counts for categorical variables:\")\n",
        "# Now, 'Age Group', 'Household Income', etc. will be accessible as columns.\n",
        "for col in ['Age Group', 'Household Income', 'Education Level', 'Location']:\n",
        "    print(f\"\\\n",
        "{col} distribution:\")\n",
        "    print(df_original[col].value_counts())"
      ],
      "metadata": {
        "colab": {
          "base_uri": "https://localhost:8080/"
        },
        "id": "SGJ849xuDXwL",
        "outputId": "e39439b9-7a15-4fef-92bb-b98a2cbad094"
      },
      "execution_count": 17,
      "outputs": [
        {
          "output_type": "stream",
          "name": "stdout",
          "text": [
            "Value counts for categorical variables:\n",
            "Age Group distribution:\n",
            "Age Group\n",
            "25-34       20\n",
            "18-24       18\n",
            "55+         17\n",
            "35-44       17\n",
            "Under 18    15\n",
            "45-54       13\n",
            "Name: count, dtype: int64\n",
            "Household Income distribution:\n",
            "Household Income\n",
            "Middle ($30,000-$70,000)    38\n",
            "High (>$70,000)             31\n",
            "Low (<$30,000)              29\n",
            "Name: count, dtype: int64\n",
            "Education Level distribution:\n",
            "Education Level\n",
            "Some College           30\n",
            "Graduate Degree        28\n",
            "Bachelorâ€™s Degree    23\n",
            "High School or Less    15\n",
            "Name: count, dtype: int64\n",
            "Location distribution:\n",
            "Location\n",
            "Suburban    40\n",
            "Urban       31\n",
            "Rural       28\n",
            "Name: count, dtype: int64\n"
          ]
        }
      ]
    },
    {
      "cell_type": "code",
      "source": [
        "#create a graph of the age group and financial literacy score\n",
        "plt.style.use('seaborn-v0_8')\n",
        "plt.figure(figsize=(10, 6))\n",
        "# I use the original DataFrame (dataframes) which contains 'Age Group' and 'Financial Literacy Score'\n",
        "avg_by_age = dataframes['Financial Literacy Score'].groupby(dataframes['Age Group']).mean().sort_values()\n",
        "sns.barplot(x=avg_by_age.index, y=avg_by_age.values)\n",
        "plt.title('Average Financial Literacy Score by Age Group')\n",
        "plt.xticks(rotation=45)\n",
        "plt.tight_layout()\n",
        "plt.show()"
      ],
      "metadata": {
        "colab": {
          "base_uri": "https://localhost:8080/",
          "height": 529
        },
        "id": "Odu9lhlSEAXY",
        "outputId": "5a8b4a59-8de5-4516-998f-753b02ab26fa"
      },
      "execution_count": 18,
      "outputs": [
        {
          "output_type": "display_data",
          "data": {
            "text/plain": [
              "<Figure size 1000x600 with 1 Axes>"
            ],
            "image/png": "[encoded data removed]"
          },
          "metadata": {}
        }
      ]
    },
    {
      "cell_type": "code",
      "source": [
        "\n",
        "# draw a graph for 'Household Income' and 'Financial Literacy Score'\n",
        "plt.figure(figsize=(10, 6))\n",
        "avg_by_income = dataframes.groupby('Household Income')['Financial Literacy Score'].mean().sort_values()\n",
        "sns.barplot(x=avg_by_income.index, y=avg_by_income.values)\n",
        "plt.title('Average Financial Literacy Score by Household Income')\n",
        "plt.xticks(rotation=45)\n",
        "plt.tight_layout()\n",
        "plt.show()"
      ],
      "metadata": {
        "colab": {
          "base_uri": "https://localhost:8080/",
          "height": 529
        },
        "id": "Yfva_XvjEyL5",
        "outputId": "f5976c67-b333-40a3-ff45-ec7fb43079a0"
      },
      "execution_count": 19,
      "outputs": [
        {
          "output_type": "display_data",
          "data": {
            "text/plain": [
              "<Figure size 1000x600 with 1 Axes>"
            ],
            "image/png": "[encoded data removed]"
          },
          "metadata": {}
        }
      ]
    },
    {
      "cell_type": "code",
      "source": [
        "print(\"Summary Statistics by Location:\")\n",
        "# Use the original DataFrame (dataframes) for grouping by 'Location'\n",
        "df= (dataframes.groupby('Location')['Financial Literacy Score'].describe())\n",
        "df.head()"
      ],
      "metadata": {
        "colab": {
          "base_uri": "https://localhost:8080/",
          "height": 192
        },
        "id": "sbAZsQZlFPjx",
        "outputId": "76ed52cc-85db-4ae9-df06-12b2018b21e8"
      },
      "execution_count": 26,
      "outputs": [
        {
          "output_type": "stream",
          "name": "stdout",
          "text": [
            "Summary Statistics by Location:\n"
          ]
        },
        {
          "output_type": "execute_result",
          "data": {
            "text/plain": [
              "          count       mean        std  min    25%   50%    75%   max\n",
              "Location                                                            \n",
              "Rural      28.0  50.142857  34.603269  0.0  12.75  54.5  78.75  97.0\n",
              "Suburban   38.0  53.868421  28.130171  2.0  28.00  57.5  73.75  95.0\n",
              "Urban      30.0  49.033333  32.199254  2.0  22.50  53.0  75.25  98.0"
            ],
            "text/html": [
              "\n",
              "  <div id=\"df-40919a3f-52c2-416f-bd70-5d2aee1c30ca\" class=\"colab-df-container\">\n",
              "    <div>\n",
              "<style scoped>\n",
              "    .dataframe tbody tr th:only-of-type {\n",
              "        vertical-align: middle;\n",
              "    }\n",
              "\n",
              "    .dataframe tbody tr th {\n",
              "        vertical-align: top;\n",
              "    }\n",
              "\n",
              "    .dataframe thead th {\n",
              "        text-align: right;\n",
              "    }\n",
              "</style>\n",
              "<table border=\"1\" class=\"dataframe\">\n",
              "  <thead>\n",
              "    <tr style=\"text-align: right;\">\n",
              "      <th></th>\n",
              "      <th>count</th>\n",
              "      <th>mean</th>\n",
              "      <th>std</th>\n",
              "      <th>min</th>\n",
              "      <th>25%</th>\n",
              "      <th>50%</th>\n",
              "      <th>75%</th>\n",
              "      <th>max</th>\n",
              "    </tr>\n",
              "    <tr>\n",
              "      <th>Location</th>\n",
              "      <th></th>\n",
              "      <th></th>\n",
              "      <th></th>\n",
              "      <th></th>\n",
              "      <th></th>\n",
              "      <th></th>\n",
              "      <th></th>\n",
              "      <th></th>\n",
              "    </tr>\n",
              "  </thead>\n",
              "  <tbody>\n",
              "    <tr>\n",
              "      <th>Rural</th>\n",
              "      <td>28.0</td>\n",
              "      <td>50.142857</td>\n",
              "      <td>34.603269</td>\n",
              "      <td>0.0</td>\n",
              "      <td>12.75</td>\n",
              "      <td>54.5</td>\n",
              "      <td>78.75</td>\n",
              "      <td>97.0</td>\n",
              "    </tr>\n",
              "    <tr>\n",
              "      <th>Suburban</th>\n",
              "      <td>38.0</td>\n",
              "      <td>53.868421</td>\n",
              "      <td>28.130171</td>\n",
              "      <td>2.0</td>\n",
              "      <td>28.00</td>\n",
              "      <td>57.5</td>\n",
              "      <td>73.75</td>\n",
              "      <td>95.0</td>\n",
              "    </tr>\n",
              "    <tr>\n",
              "      <th>Urban</th>\n",
              "      <td>30.0</td>\n",
              "      <td>49.033333</td>\n",
              "      <td>32.199254</td>\n",
              "      <td>2.0</td>\n",
              "      <td>22.50</td>\n",
              "      <td>53.0</td>\n",
              "      <td>75.25</td>\n",
              "      <td>98.0</td>\n",
              "    </tr>\n",
              "  </tbody>\n",
              "</table>\n",
              "</div>\n",
              "    <div class=\"colab-df-buttons\">\n",
              "\n",
              "  <div class=\"colab-df-container\">\n",
              "    <button class=\"colab-df-convert\" onclick=\"convertToInteractive('df-40919a3f-52c2-416f-bd70-5d2aee1c30ca')\"\n",
              "            title=\"Convert this dataframe to an interactive table.\"\n",
              "            style=\"display:none;\">\n",
              "\n",
              "  <svg xmlns=\"http://www.w3.org/2000/svg\" height=\"24px\" viewBox=\"0 -960 960 960\">\n",
              "    <path d=\"M120-120v-720h720v720H120Zm60-500h600v-160H180v160Zm220 220h160v-160H400v160Zm0 220h160v-160H400v160ZM180-400h160v-160H180v160Zm440 0h160v-160H620v160ZM180-180h160v-160H180v160Zm440 0h160v-160H620v160Z\"/>\n",
              "  </svg>\n",
              "    </button>\n",
              "\n",
              "  <style>\n",
              "    .colab-df-container {\n",
              "      display:flex;\n",
              "      gap: 12px;\n",
              "    }\n",
              "\n",
              "    .colab-df-convert {\n",
              "      background-color: #E8F0FE;\n",
              "      border: none;\n",
              "      border-radius: 50%;\n",
              "      cursor: pointer;\n",
              "      display: none;\n",
              "      fill: #1967D2;\n",
              "      height: 32px;\n",
              "      padding: 0 0 0 0;\n",
              "      width: 32px;\n",
              "    }\n",
              "\n",
              "    .colab-df-convert:hover {\n",
              "      background-color: #E2EBFA;\n",
              "      box-shadow: 0px 1px 2px rgba(60, 64, 67, 0.3), 0px 1px 3px 1px rgba(60, 64, 67, 0.15);\n",
              "      fill: #174EA6;\n",
              "    }\n",
              "\n",
              "    .colab-df-buttons div {\n",
              "      margin-bottom: 4px;\n",
              "    }\n",
              "\n",
              "    [theme=dark] .colab-df-convert {\n",
              "      background-color: #3B4455;\n",
              "      fill: #D2E3FC;\n",
              "    }\n",
              "\n",
              "    [theme=dark] .colab-df-convert:hover {\n",
              "      background-color: #434B5C;\n",
              "      box-shadow: 0px 1px 3px 1px rgba(0, 0, 0, 0.15);\n",
              "      filter: drop-shadow(0px 1px 2px rgba(0, 0, 0, 0.3));\n",
              "      fill: #FFFFFF;\n",
              "    }\n",
              "  </style>\n",
              "\n",
              "    <script>\n",
              "      const buttonEl =\n",
              "        document.querySelector('#df-40919a3f-52c2-416f-bd70-5d2aee1c30ca button.colab-df-convert');\n",
              "      buttonEl.style.display =\n",
              "        google.colab.kernel.accessAllowed ? 'block' : 'none';\n",
              "\n",
              "      async function convertToInteractive(key) {\n",
              "        const element = document.querySelector('#df-40919a3f-52c2-416f-bd70-5d2aee1c30ca');\n",
              "        const dataTable =\n",
              "          await google.colab.kernel.invokeFunction('convertToInteractive',\n",
              "                                                    [key], {});\n",
              "        if (!dataTable) return;\n",
              "\n",
              "        const docLinkHtml = 'Like what you see? Visit the ' +\n",
              "          '<a target=\"_blank\" href=https://colab.research.google.com/notebooks/data_table.ipynb>data table notebook</a>'\n",
              "          + ' to learn more about interactive tables.';\n",
              "        element.innerHTML = '';\n",
              "        dataTable['output_type'] = 'display_data';\n",
              "        await google.colab.output.renderOutput(dataTable, element);\n",
              "        const docLink = document.createElement('div');\n",
              "        docLink.innerHTML = docLinkHtml;\n",
              "        element.appendChild(docLink);\n",
              "      }\n",
              "    </script>\n",
              "  </div>\n",
              "\n",
              "\n",
              "<div id=\"df-1d278188-b62c-4d90-9a83-96e65a71e6d7\">\n",
              "  <button class=\"colab-df-quickchart\" onclick=\"quickchart('df-1d278188-b62c-4d90-9a83-96e65a71e6d7')\"\n",
              "            title=\"Suggest charts\"\n",
              "            style=\"display:none;\">\n",
              "\n",
              "<svg xmlns=\"http://www.w3.org/2000/svg\" height=\"24px\"viewBox=\"0 0 24 24\"\n",
              "     width=\"24px\">\n",
              "    <g>\n",
              "        <path d=\"M19 3H5c-1.1 0-2 .9-2 2v14c0 1.1.9 2 2 2h14c1.1 0 2-.9 2-2V5c0-1.1-.9-2-2-2zM9 17H7v-7h2v7zm4 0h-2V7h2v10zm4 0h-2v-4h2v4z\"/>\n",
              "    </g>\n",
              "</svg>\n",
              "  </button>\n",
              "\n",
              "<style>\n",
              "  .colab-df-quickchart {\n",
              "      --bg-color: #E8F0FE;\n",
              "      --fill-color: #1967D2;\n",
              "      --hover-bg-color: #E2EBFA;\n",
              "      --hover-fill-color: #174EA6;\n",
              "      --disabled-fill-color: #AAA;\n",
              "      --disabled-bg-color: #DDD;\n",
              "  }\n",
              "\n",
              "  [theme=dark] .colab-df-quickchart {\n",
              "      --bg-color: #3B4455;\n",
              "      --fill-color: #D2E3FC;\n",
              "      --hover-bg-color: #434B5C;\n",
              "      --hover-fill-color: #FFFFFF;\n",
              "      --disabled-bg-color: #3B4455;\n",
              "      --disabled-fill-color: #666;\n",
              "  }\n",
              "\n",
              "  .colab-df-quickchart {\n",
              "    background-color: var(--bg-color);\n",
              "    border: none;\n",
              "    border-radius: 50%;\n",
              "    cursor: pointer;\n",
              "    display: none;\n",
              "    fill: var(--fill-color);\n",
              "    height: 32px;\n",
              "    padding: 0;\n",
              "    width: 32px;\n",
              "  }\n",
              "\n",
              "  .colab-df-quickchart:hover {\n",
              "    background-color: var(--hover-bg-color);\n",
              "    box-shadow: 0 1px 2px rgba(60, 64, 67, 0.3), 0 1px 3px 1px rgba(60, 64, 67, 0.15);\n",
              "    fill: var(--button-hover-fill-color);\n",
              "  }\n",
              "\n",
              "  .colab-df-quickchart-complete:disabled,\n",
              "  .colab-df-quickchart-complete:disabled:hover {\n",
              "    background-color: var(--disabled-bg-color);\n",
              "    fill: var(--disabled-fill-color);\n",
              "    box-shadow: none;\n",
              "  }\n",
              "\n",
              "  .colab-df-spinner {\n",
              "    border: 2px solid var(--fill-color);\n",
              "    border-color: transparent;\n",
              "    border-bottom-color: var(--fill-color);\n",
              "    animation:\n",
              "      spin 1s steps(1) infinite;\n",
              "  }\n",
              "\n",
              "  @keyframes spin {\n",
              "    0% {\n",
              "      border-color: transparent;\n",
              "      border-bottom-color: var(--fill-color);\n",
              "      border-left-color: var(--fill-color);\n",
              "    }\n",
              "    20% {\n",
              "      border-color: transparent;\n",
              "      border-left-color: var(--fill-color);\n",
              "      border-top-color: var(--fill-color);\n",
              "    }\n",
              "    30% {\n",
              "      border-color: transparent;\n",
              "      border-left-color: var(--fill-color);\n",
              "      border-top-color: var(--fill-color);\n",
              "      border-right-color: var(--fill-color);\n",
              "    }\n",
              "    40% {\n",
              "      border-color: transparent;\n",
              "      border-right-color: var(--fill-color);\n",
              "      border-top-color: var(--fill-color);\n",
              "    }\n",
              "    60% {\n",
              "      border-color: transparent;\n",
              "      border-right-color: var(--fill-color);\n",
              "    }\n",
              "    80% {\n",
              "      border-color: transparent;\n",
              "      border-right-color: var(--fill-color);\n",
              "      border-bottom-color: var(--fill-color);\n",
              "    }\n",
              "    90% {\n",
              "      border-color: transparent;\n",
              "      border-bottom-color: var(--fill-color);\n",
              "    }\n",
              "  }\n",
              "</style>\n",
              "\n",
              "  <script>\n",
              "    async function quickchart(key) {\n",
              "      const quickchartButtonEl =\n",
              "        document.querySelector('#' + key + ' button');\n",
              "      quickchartButtonEl.disabled = true;  // To prevent multiple clicks.\n",
              "      quickchartButtonEl.classList.add('colab-df-spinner');\n",
              "      try {\n",
              "        const charts = await google.colab.kernel.invokeFunction(\n",
              "            'suggestCharts', [key], {});\n",
              "      } catch (error) {\n",
              "        console.error('Error during call to suggestCharts:', error);\n",
              "      }\n",
              "      quickchartButtonEl.classList.remove('colab-df-spinner');\n",
              "      quickchartButtonEl.classList.add('colab-df-quickchart-complete');\n",
              "    }\n",
              "    (() => {\n",
              "      let quickchartButtonEl =\n",
              "        document.querySelector('#df-1d278188-b62c-4d90-9a83-96e65a71e6d7 button');\n",
              "      quickchartButtonEl.style.display =\n",
              "        google.colab.kernel.accessAllowed ? 'block' : 'none';\n",
              "    })();\n",
              "  </script>\n",
              "</div>\n",
              "\n",
              "    </div>\n",
              "  </div>\n"
            ],
            "application/vnd.google.colaboratory.intrinsic+json": {
              "type": "dataframe",
              "variable_name": "df",
              "summary": "{\n  \"name\": \"df\",\n  \"rows\": 3,\n  \"fields\": [\n    {\n      \"column\": \"Location\",\n      \"properties\": {\n        \"dtype\": \"string\",\n        \"num_unique_values\": 3,\n        \"samples\": [\n          \"Rural\",\n          \"Suburban\",\n          \"Urban\"\n        ],\n        \"semantic_type\": \"\",\n        \"description\": \"\"\n      }\n    },\n    {\n      \"column\": \"count\",\n      \"properties\": {\n        \"dtype\": \"number\",\n        \"std\": 5.291502622129181,\n        \"min\": 28.0,\n        \"max\": 38.0,\n        \"num_unique_values\": 3,\n        \"samples\": [\n          28.0,\n          38.0,\n          30.0\n        ],\n        \"semantic_type\": \"\",\n        \"description\": \"\"\n      }\n    },\n    {\n      \"column\": \"mean\",\n      \"properties\": {\n        \"dtype\": \"number\",\n        \"std\": 2.532750243741073,\n        \"min\": 49.03333333333333,\n        \"max\": 53.86842105263158,\n        \"num_unique_values\": 3,\n        \"samples\": [\n          50.142857142857146,\n          53.86842105263158,\n          49.03333333333333\n        ],\n        \"semantic_type\": \"\",\n        \"description\": \"\"\n      }\n    },\n    {\n      \"column\": \"std\",\n      \"properties\": {\n        \"dtype\": \"number\",\n        \"std\": 3.2720462022080334,\n        \"min\": 28.130171406969612,\n        \"max\": 34.60326925864438,\n        \"num_unique_values\": 3,\n        \"samples\": [\n          34.60326925864438,\n          28.130171406969612,\n          32.1992539358133\n        ],\n        \"semantic_type\": \"\",\n        \"description\": \"\"\n      }\n    },\n    {\n      \"column\": \"min\",\n      \"properties\": {\n        \"dtype\": \"number\",\n        \"std\": 1.1547005383792517,\n        \"min\": 0.0,\n        \"max\": 2.0,\n        \"num_unique_values\": 2,\n        \"samples\": [\n          2.0,\n          0.0\n        ],\n        \"semantic_type\": \"\",\n        \"description\": \"\"\n      }\n    },\n    {\n      \"column\": \"25%\",\n      \"properties\": {\n        \"dtype\": \"number\",\n        \"std\": 7.723071496065107,\n        \"min\": 12.75,\n        \"max\": 28.0,\n        \"num_unique_values\": 3,\n        \"samples\": [\n          12.75,\n          28.0\n        ],\n        \"semantic_type\": \"\",\n        \"description\": \"\"\n      }\n    },\n    {\n      \"column\": \"50%\",\n      \"properties\": {\n        \"dtype\": \"number\",\n        \"std\": 2.29128784747792,\n        \"min\": 53.0,\n        \"max\": 57.5,\n        \"num_unique_values\": 3,\n        \"samples\": [\n          54.5,\n          57.5\n        ],\n        \"semantic_type\": \"\",\n        \"description\": \"\"\n      }\n    },\n    {\n      \"column\": \"75%\",\n      \"properties\": {\n        \"dtype\": \"number\",\n        \"std\": 2.565800719723442,\n        \"min\": 73.75,\n        \"max\": 78.75,\n        \"num_unique_values\": 3,\n        \"samples\": [\n          78.75,\n          73.75\n        ],\n        \"semantic_type\": \"\",\n        \"description\": \"\"\n      }\n    },\n    {\n      \"column\": \"max\",\n      \"properties\": {\n        \"dtype\": \"number\",\n        \"std\": 1.5275252316519468,\n        \"min\": 95.0,\n        \"max\": 98.0,\n        \"num_unique_values\": 3,\n        \"samples\": [\n          97.0,\n          95.0\n        ],\n        \"semantic_type\": \"\",\n        \"description\": \"\"\n      }\n    }\n  ]\n}"
            }
          },
          "metadata": {},
          "execution_count": 26
        }
      ]
    },
    {
      "cell_type": "code",
      "source": [],
      "metadata": {
        "id": "rmNK-O34GfI8"
      },
      "execution_count": null,
      "outputs": []
    }
  ]
}